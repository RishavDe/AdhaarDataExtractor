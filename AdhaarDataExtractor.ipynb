{
  "nbformat": 4,
  "nbformat_minor": 0,
  "metadata": {
    "colab": {
      "provenance": []
    },
    "kernelspec": {
      "name": "python3",
      "display_name": "Python 3"
    },
    "language_info": {
      "name": "python"
    }
  },
  "cells": [
    {
      "cell_type": "code",
      "source": [
        "!apt install tesseract-ocr\n",
        "!pip install pytesseract\n"
      ],
      "metadata": {
        "id": "vj-T51t0qpW2",
        "colab": {
          "base_uri": "https://localhost:8080/"
        },
        "outputId": "9c155c16-88c9-43f6-ec8b-62baff70d5f4"
      },
      "execution_count": 2,
      "outputs": [
        {
          "output_type": "stream",
          "name": "stdout",
          "text": [
            "Reading package lists... Done\n",
            "Building dependency tree       \n",
            "Reading state information... Done\n",
            "The following additional packages will be installed:\n",
            "  tesseract-ocr-eng tesseract-ocr-osd\n",
            "The following NEW packages will be installed:\n",
            "  tesseract-ocr tesseract-ocr-eng tesseract-ocr-osd\n",
            "0 upgraded, 3 newly installed, 0 to remove and 15 not upgraded.\n",
            "Need to get 4,850 kB of archives.\n",
            "After this operation, 16.3 MB of additional disk space will be used.\n",
            "Get:1 http://archive.ubuntu.com/ubuntu focal/universe amd64 tesseract-ocr-eng all 1:4.00~git30-7274cfa-1 [1,598 kB]\n",
            "Get:2 http://archive.ubuntu.com/ubuntu focal/universe amd64 tesseract-ocr-osd all 1:4.00~git30-7274cfa-1 [2,990 kB]\n",
            "Get:3 http://archive.ubuntu.com/ubuntu focal/universe amd64 tesseract-ocr amd64 4.1.1-2build2 [262 kB]\n",
            "Fetched 4,850 kB in 1s (5,200 kB/s)\n",
            "Selecting previously unselected package tesseract-ocr-eng.\n",
            "(Reading database ... 123069 files and directories currently installed.)\n",
            "Preparing to unpack .../tesseract-ocr-eng_1%3a4.00~git30-7274cfa-1_all.deb ...\n",
            "Unpacking tesseract-ocr-eng (1:4.00~git30-7274cfa-1) ...\n",
            "Selecting previously unselected package tesseract-ocr-osd.\n",
            "Preparing to unpack .../tesseract-ocr-osd_1%3a4.00~git30-7274cfa-1_all.deb ...\n",
            "Unpacking tesseract-ocr-osd (1:4.00~git30-7274cfa-1) ...\n",
            "Selecting previously unselected package tesseract-ocr.\n",
            "Preparing to unpack .../tesseract-ocr_4.1.1-2build2_amd64.deb ...\n",
            "Unpacking tesseract-ocr (4.1.1-2build2) ...\n",
            "Setting up tesseract-ocr-eng (1:4.00~git30-7274cfa-1) ...\n",
            "Setting up tesseract-ocr-osd (1:4.00~git30-7274cfa-1) ...\n",
            "Setting up tesseract-ocr (4.1.1-2build2) ...\n",
            "Processing triggers for man-db (2.9.1-1) ...\n",
            "Looking in indexes: https://pypi.org/simple, https://us-python.pkg.dev/colab-wheels/public/simple/\n",
            "Collecting pytesseract\n",
            "  Downloading pytesseract-0.3.10-py3-none-any.whl (14 kB)\n",
            "Requirement already satisfied: packaging>=21.3 in /usr/local/lib/python3.10/dist-packages (from pytesseract) (23.1)\n",
            "Requirement already satisfied: Pillow>=8.0.0 in /usr/local/lib/python3.10/dist-packages (from pytesseract) (8.4.0)\n",
            "Installing collected packages: pytesseract\n",
            "Successfully installed pytesseract-0.3.10\n"
          ]
        }
      ]
    },
    {
      "cell_type": "code",
      "source": [
        "pip install opencv-python"
      ],
      "metadata": {
        "id": "vZVIqY5aq4ov",
        "colab": {
          "base_uri": "https://localhost:8080/"
        },
        "outputId": "9dd99e3c-2bdc-4e12-e27a-71b86845b6bd"
      },
      "execution_count": 3,
      "outputs": [
        {
          "output_type": "stream",
          "name": "stdout",
          "text": [
            "Looking in indexes: https://pypi.org/simple, https://us-python.pkg.dev/colab-wheels/public/simple/\n",
            "Requirement already satisfied: opencv-python in /usr/local/lib/python3.10/dist-packages (4.7.0.72)\n",
            "Requirement already satisfied: numpy>=1.21.2 in /usr/local/lib/python3.10/dist-packages (from opencv-python) (1.22.4)\n"
          ]
        }
      ]
    },
    {
      "cell_type": "code",
      "source": [
        "import cv2\n",
        "import pytesseract\n",
        "from PIL import Image\n",
        "\n",
        "# Load the image\n",
        "image_path = '/content/sample_data/adharphoto.jpg'\n",
        "\n"
      ],
      "metadata": {
        "id": "3K4GPuiLBX1h"
      },
      "execution_count": 27,
      "outputs": []
    },
    {
      "cell_type": "code",
      "source": [
        "import cv2\n",
        "import numpy as np\n",
        "\n",
        "def straighten_image(image_path):\n",
        "    # Load the image\n",
        "    image = cv2.imread(image_path)\n",
        "\n",
        "    # Convert the image to grayscale\n",
        "    gray = cv2.cvtColor(image, cv2.COLOR_BGR2GRAY)\n",
        "\n",
        "    # Apply Gaussian blur to reduce noise and improve line detection\n",
        "    blurred = cv2.GaussianBlur(gray, (5, 5), 0)\n",
        "\n",
        "    # Apply Canny edge detection to find edges\n",
        "    edges = cv2.Canny(blurred, 50, 150, apertureSize=3)\n",
        "\n",
        "    # Perform Hough line detection\n",
        "    lines = cv2.HoughLines(edges, 1, np.pi / 180, 200)\n",
        "\n",
        "    # Find the angle of the most prominent line\n",
        "    angles = []\n",
        "    for line in lines:\n",
        "        rho, theta = line[0]\n",
        "        angle = theta * 180 / np.pi\n",
        "        angles.append(angle)\n",
        "    dominant_angle = np.median(angles)\n",
        "\n",
        "    # Get image dimensions\n",
        "    height, width = image.shape[:2]\n",
        "\n",
        "    # Define the rotation center\n",
        "    center = (width // 2, height // 2)\n",
        "\n",
        "    # Perform the rotation to straighten the image\n",
        "    rotation_matrix = cv2.getRotationMatrix2D(center, dominant_angle, 1.0)\n",
        "    straightened = cv2.warpAffine(image, rotation_matrix, (width, height), flags=cv2.INTER_LINEAR)\n",
        "\n",
        "    return straightened\n",
        "\n",
        "\n"
      ],
      "metadata": {
        "id": "1aZ-VPBHiIsz"
      },
      "execution_count": 28,
      "outputs": []
    },
    {
      "cell_type": "code",
      "source": [
        "image_processed = straighten_image(image_path)\n",
        "def extract_text_from_image(image_processed):\n",
        "    # Open the image file\n",
        "    image = Image.open(image_path)\n",
        "\n",
        "    # Perform OCR using Tesseract\n",
        "    text = pytesseract.image_to_string(image)\n",
        "\n",
        "    return text\n",
        "\n",
        "# Example usage\n",
        "\n",
        "text = extract_text_from_image(image_path)\n",
        "print(text)"
      ],
      "metadata": {
        "colab": {
          "base_uri": "https://localhost:8080/"
        },
        "id": "iNy-1fH7TAhV",
        "outputId": "5ee109f9-3bea-4deb-abca-cdcd299c7e34"
      },
      "execution_count": 29,
      "outputs": [
        {
          "output_type": "stream",
          "name": "stdout",
          "text": [
            " \n",
            "\n",
            "Rishav De\n",
            "DOB: 02/09/2002\n",
            "MALE\n",
            "Mobile No: 8697775675\n",
            "\n",
            " \n",
            "\n",
            "9177 0030 2460\n",
            "\n",
            "VID : 9190 S077 2332 3353\n",
            "\n",
            "_ MERA AADHAAR, MERI PEHCHAN\n",
            "\n",
            " \n",
            "\f\n"
          ]
        }
      ]
    },
    {
      "cell_type": "code",
      "source": [
        "!pip install -U spacy\n",
        "!python -m spacy download en_core_web_sm\n",
        "\n"
      ],
      "metadata": {
        "id": "bCpay31NNs02"
      },
      "execution_count": null,
      "outputs": []
    },
    {
      "cell_type": "code",
      "source": [
        "import spacy\n",
        "\n",
        "# Load the pre-trained SpaCy model\n",
        "nlp = spacy.load(\"en_core_web_sm\")\n",
        "\n",
        "def extract_person_names(document):\n",
        "    # Process the document with SpaCy\n",
        "    doc = nlp(document)\n",
        "\n",
        "    # Extract person names\n",
        "    person_names = []\n",
        "    for ent in doc.ents:\n",
        "        if ent.label_ == \"PERSON\":\n",
        "            person_names.append(ent.text)\n",
        "\n",
        "    return person_names\n",
        "\n",
        "def extract_person_names(document, pattern):\n",
        "    # Process the document with SpaCy\n",
        "    doc = nlp(document)\n",
        "\n",
        "    # Compile the regular expression pattern\n",
        "    regex = re.compile(pattern)\n",
        "\n",
        "    # Extract person names matching the pattern\n",
        "    person_names = []\n",
        "    for ent in doc.ents:\n",
        "        if ent.label_ == \"PERSON\" and regex.match(ent.text):\n",
        "            person_names.append(ent.text)\n",
        "\n",
        "    return person_names\n",
        "\n",
        "\n",
        "print(names)\n",
        "name_regex =  r\"(?<![a-zA-Z'])\\b[A-Z][a-z']* [A-Z][a-zA-Z']*\\b(?![a-zA-Z'])\"\n",
        "# Extract name\n",
        "name_match = re.search(name_regex,text)\n",
        "name = name_match.group(0) if name_match else None\n",
        "\n",
        "names = extract_person_names(text, name_regex)\n",
        "#print(name)\n"
      ],
      "metadata": {
        "id": "vAAr7ihyiskE",
        "colab": {
          "base_uri": "https://localhost:8080/"
        },
        "outputId": "c64689d3-0b69-461c-d201-6ee088f40cb1"
      },
      "execution_count": 32,
      "outputs": [
        {
          "output_type": "stream",
          "name": "stdout",
          "text": [
            "['Rishav De\\nDOB']\n",
            "Rishav De\n"
          ]
        }
      ]
    },
    {
      "cell_type": "code",
      "source": [
        "import re\n",
        "\n",
        "# Extracted text\n",
        "extracted_text = text\n",
        "\n",
        "# Define regular expressions for each category\n",
        "name_regex =  r\"(?<![a-zA-Z'])\\b[A-Z][a-z']* [A-Z][a-zA-Z']*\\b(?![a-zA-Z'])\"\n",
        "\n",
        "dob_regex = r\"\\b(\\d{2}/\\d{2}/\\d{4})\\b\"\n",
        "phone_regex = r\"(\\d{10})\"\n",
        "aadhaar_regex = r\"(?<![0-9])(\\d{4} \\d{4} \\d{4})(?![0-9])\"\n",
        "gender_regex = r\"\\b(Male|Female|FEMALE|MALE)\\b\"\n",
        "\n",
        "\n",
        "\n",
        "# Extract DOB\n",
        "dob_match = re.search(dob_regex, extracted_text)\n",
        "dob = dob_match.group(1) if dob_match else None\n",
        "\n",
        "# Extract phone number\n",
        "phone_match = re.search(phone_regex, extracted_text)\n",
        "phone_number = phone_match.group(1) if phone_match else None\n",
        "\n",
        "# Extract Aadhaar number\n",
        "aadhaar_match = re.search(aadhaar_regex, extracted_text)\n",
        "aadhaar_number = aadhaar_match.group(1) if aadhaar_match else None\n",
        "\n",
        "# Extract gender\n",
        "gender_match = re.search(gender_regex, extracted_text)\n",
        "gender = gender_match.group(0) if gender_match else None\n",
        "\n",
        "# Create a dictionary of the extracted data\n",
        "data = {\n",
        "    \"Name\": name,\n",
        "    \"DOB\": dob,\n",
        "    \"Phone Number\": phone_number,\n",
        "    \"Aadhaar Number\": aadhaar_number,\n",
        "    \"Gender\": gender\n",
        "}\n",
        "\n",
        "# Remove empty values from the dictionary\n",
        "data = {key: value for key, value in data.items() if value}\n",
        "\n",
        "# Print the extracted information\n",
        "for key, value in data.items():\n",
        "    print(key + \":\", value)\n"
      ],
      "metadata": {
        "colab": {
          "base_uri": "https://localhost:8080/"
        },
        "id": "0siNiaH_Xhti",
        "outputId": "945795b1-0c27-409d-fd8a-ee4be7b9be30"
      },
      "execution_count": 33,
      "outputs": [
        {
          "output_type": "stream",
          "name": "stdout",
          "text": [
            "Name: Rishav De\n",
            "DOB: 02/09/2002\n",
            "Phone Number: 8697775675\n",
            "Aadhaar Number: 9177 0030 2460\n",
            "Gender: MALE\n"
          ]
        }
      ]
    }
  ]
}